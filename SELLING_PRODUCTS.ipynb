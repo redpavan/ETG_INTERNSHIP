In [24]:
import json

fd = open("products.json",'r')
r = fd.read()
fd.close()

products = json.loads(r)



print("Welcome to shop")


ui_prod = input("Enter the product Id: ")
ui_quan = int(input("Enter the quantity of the Product: "))

for i in products.keys():
    while ui_prod == i:
        if ui_quan <= products[i]['quan']:
            print("****************************************")
            print("             product:",products[ui_prod]['name'])
            print("               price:",products[ui_prod]['price'])
            print("         Expiry date:",products[ui_prod]['expiry'])
            print(" Manufacturing Brand:",products[ui_prod]['brand'])
            print("****************************************")
            print("----------BILLING DETAILS:---------- ")
            print("Total Amount: ",products[ui_prod]['price']*ui_quan) 
            print("Enjoy Your Day")
            print("Thank You. Visit Again")
            print("**********************************")
            products[ui_prod]["quan"] = products[ui_prod]["quan"] - ui_quan
        else:
            print("Sorry. Stock of product you enterd is: ",products[ui_prod]['quan'],"\nPlease accept our apologies for this inconvenience")
        break
if ui_prod not in products.keys():
   print("Sorry. No product found for ID: ",ui_prod,"\Please enter valid product ID")
    
    
js = json.dumps(products)

fd = open("products.json",'w')
fd.write(js)
fd.close()

## The sold items information is stored on sales.json
fd = open("sales.json",'r')
trans = fd.read()
fd.close()

sales = json.loads(trans)
num = len(sales)+1

sales[num] = {'prod':ui_prod, 'quan' : ui_quan, 'amount': products[ui_prod]['price'] * ui_quan}
sale = json.dumps(sales)

fd = open("sales.json",'w')
fd.write(sale)
fd.close()
Welcome to shop
Enter the product Id: 1009
Enter the quantity of the Product: 3
****************************************
             product: Candyman Fantasy
               price: 80
         Expiry date: 28 dec 2021
 Manufacturing Brand: Candyman Fantastik
****************************************
----------BILLING DETAILS:---------- 
Total Amount:  240
Enjoy Your Day
Thank You. Visit Again
**********************************
In [21]:
products
Out[21]:
{'1001': {'brand': 'Pepsi',
  'expiry': '20 oct 2023',
  'name': 'Pepsi Can',
  'price': 153,
  'quan': 41},
 '1002': {'brand': 'Tata',
  'expiry': '12 jan 2022',
  'name': 'Tata Salt',
  'price': 20,
  'quan': 127},
 '1003': {'brand': 'Tata',
  'expiry': '10 mar 2023',
  'name': 'Tata Tea Gold',
  'price': 48,
  'quan': 142},
 '1004': {'brand': 'Tata',
  'expiry': '23 jun 2023',
  'name': 'Turmeric Powder',
  'price': 52,
  'quan': 122},
 '1005': {'brand': 'Quaker',
  'expiry': '30 oct 2022',
  'name': 'Quaker Oats',
  'price': 285,
  'quan': 30},
 '1006': {'brand': 'Saffola',
  'expiry': '29 jan 2022',
  'name': 'Saffola Active',
  'price': 207,
  'quan': 56},
 '1007': {'brand': 'Nestle',
  'expiry': '31 aug 2022',
  'name': 'Kitkat Desert',
  'price': 55,
  'quan': 59},
 '1008': {'brand': 'Dark Fantasy',
  'expiry': '21 feb 2022',
  'name': 'Dark Fantasy Choco Fills',
  'price': 90,
  'quan': 86},
 '1009': {'brand': 'Candyman Fantastik',
  'expiry': '28 dec 2021',
  'name': 'Candyman Fantasy',
  'price': 80,
  'quan': 95},
 '1010': {'brand': 'Lotte',
  'expiry': '01 jun 2022',
  'name': 'Lotte Choco Pie',
  'price': 110,
  'quan': 95},
 '1011': {'brand': 'Britania',
  'expiry': '15 jul 2022',
  'name': 'Britania Chocolate cake',
  'price': 120,
  'quan': 100},
 '1012': {'brand': 'Pillsbury',
  'expiry': '02 dec 2021',
  'name': 'Pillsbury cookes cake',
  'price': 90,
  'quan': 200},
 '1013': {'brand': 'Ore0',
  'expiry': '30 dec 2021',
  'name': 'Kraft Oreo Soft Cake',
  'price': 249,
  'quan': 120},
 '1014': {'brand': 'Sunfeast',
  'expiry': '19 mar 2022',
  'name': "Mom's Magic Cashew",
  'price': 80,
  'quan': 180},
 '1015': {'brand': 'Cadbury',
  'expiry': '19 feb 2022',
  'name': 'Cadbury Oreo chacolate',
  'price': 60,
  'quan': 180},
 '1016': {'brand': 'Betty Croker',
  'expiry': '15 jan 2022',
  'name': 'Betty Croker Pancake',
  'price': 346,
  'quan': 181},
 '1017': {'brand': 'Parle',
  'expiry': '13 dec 2011',
  'name': 'Parle G Original',
  'price': 67,
  'quan': 140},
 '1018': {'brand': "Lay's",
  'expiry': '14 feb 2023',
  'name': 'Lays Potato Chips',
  'price': 30,
  'quan': 450},
 '1019': {'brand': 'Bingo!',
  'expiry': '20 dec 2023',
  'name': 'Bingo! Mad Angle',
  'price': 25,
  'quan': 440},
 '1020': {'brand': "Kellog's",
  'expiry': '25 jan 2024',
  'name': "Kellogg's pringles",
  'price': 85,
  'quan': 400},
 '1021': {'brand': "Dorito's",
  'expiry': '22 jan 2023',
  'name': "Dorito's Nacho Chips",
  'price': 90,
  'quan': 360},
 '1022': {'brand': 'Thums Up',
  'expiry': '20 dec 2024',
  'name': 'Thums Up Soft Drink',
  'price': 40,
  'quan': 60},
 '1023': {'brand': 'Svami',
  'expiry': '20 jun 2023',
  'name': 'Svami Soda Water',
  'price': 55,
  'quan': 70},
 '1024': {'brand': 'Coca Cola',
  'expiry': '22 jul 2023',
  'name': 'Coca-Cola',
  'price': 65,
  'quan': 60},
 '1025': {'brand': 'Sprite',
  'expiry': '20 nov 2023',
  'name': 'Sprite Lime Flavor',
  'price': 89,
  'quan': 40},
 '1026': {'brand': 'Colgate',
  'expiry': '20 jun 2024',
  'name': 'Colgate Maxfresh',
  'price': 215,
  'quan': 55},
 '1027': {'brand': 'Pepsodent',
  'expiry': '15 jul 2022',
  'name': 'Pepsodent Gum Care',
  'price': 300,
  'quan': 150},
 '1028': {'brand': 'DABUR',
  'expiry': '10 aug 2024',
  'name': 'Dabur Amla Hair Oil',
  'price': 247,
  'quan': 100},
 '1029': {'brand': 'Nivea',
  'expiry': '31 jul 2022',
  'name': 'Nivea Men Face Wash',
  'price': 149,
  'quan': 98},
 '1030': {'brand': 'Himalaya',
  'expiry': '22 may 2022',
  'name': 'Himalaya Herbal Face wash',
  'price': 104,
  'quan': 200},
 '1031': {'brand': 'Himalaya',
  'expiry': '31 may 2024',
  'name': 'Himalaya Baby Powder',
  'price': 243,
  'quan': 150},
 '1032': {'brand': 'Nivea',
  'expiry': '31 may 2024',
  'name': 'Nivea Talcum Powder',
  'price': 199,
  'quan': 120},
 '1033': {'brand': 'FOGG',
  'expiry': '01 jan 2024',
  'name': 'Fogg Xtremo Scent',
  'price': 299,
  'quan': 155},
 '1034': {'brand': 'Villian',
  'expiry': '31 may 2024',
  'name': 'Villain Perfume men',
  'price': 555,
  'quan': 230},
 '1035': {'brand': 'Cadbury',
  'expiry': '31 jan 2022',
  'name': 'Dairy Milk Silk',
  'price': 475,
  'quan': 50}}
Update Inventory after products sold

In [22]:
sales = {1 : {'prod':ui_prod, 'quan':ui_quan, 'amount':products[ui_prod]['price']*ui_quan}}
sal = json.dumps(sales)

fd = open("sales.json",'w')
fd.write(sal)
fd.close()
